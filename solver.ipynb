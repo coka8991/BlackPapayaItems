{
 "cells": [
  {
   "cell_type": "code",
   "execution_count": 4,
   "metadata": {},
   "outputs": [
    {
     "name": "stdout",
     "output_type": "stream",
     "text": [
      "WARNING: Could not locate the 'cbc' executable, which is required for solver\n",
      "cbc\n"
     ]
    },
    {
     "ename": "ApplicationError",
     "evalue": "No executable found for solver 'cbc'",
     "output_type": "error",
     "traceback": [
      "\u001b[31m---------------------------------------------------------------------------\u001b[39m",
      "\u001b[31mApplicationError\u001b[39m                          Traceback (most recent call last)",
      "\u001b[36mCell\u001b[39m\u001b[36m \u001b[39m\u001b[32mIn[4]\u001b[39m\u001b[32m, line 45\u001b[39m\n\u001b[32m     40\u001b[39m \u001b[38;5;66;03m# ------------------------\u001b[39;00m\n\u001b[32m     41\u001b[39m \u001b[38;5;66;03m# Solver\u001b[39;00m\n\u001b[32m     42\u001b[39m \u001b[38;5;66;03m# ------------------------\u001b[39;00m\n\u001b[32m     44\u001b[39m solver = SolverFactory(\u001b[33m'\u001b[39m\u001b[33mcbc\u001b[39m\u001b[33m'\u001b[39m)  \u001b[38;5;66;03m# Usa 'cbc' o el que tengas disponible\u001b[39;00m\n\u001b[32m---> \u001b[39m\u001b[32m45\u001b[39m \u001b[43msolver\u001b[49m\u001b[43m.\u001b[49m\u001b[43msolve\u001b[49m\u001b[43m(\u001b[49m\u001b[43mmodel\u001b[49m\u001b[43m,\u001b[49m\u001b[43m \u001b[49m\u001b[43mtee\u001b[49m\u001b[43m=\u001b[49m\u001b[38;5;28;43;01mTrue\u001b[39;49;00m\u001b[43m)\u001b[49m\n\u001b[32m     47\u001b[39m \u001b[38;5;66;03m# ------------------------\u001b[39;00m\n\u001b[32m     48\u001b[39m \u001b[38;5;66;03m# Resultado\u001b[39;00m\n\u001b[32m     49\u001b[39m \u001b[38;5;66;03m# ------------------------\u001b[39;00m\n\u001b[32m     50\u001b[39m \n\u001b[32m     51\u001b[39m \u001b[38;5;66;03m# Imprime la matriz C\u001b[39;00m\n\u001b[32m     52\u001b[39m C_matrix = [[\u001b[38;5;28mint\u001b[39m(value(model.C[i, j])) \u001b[38;5;28;01mfor\u001b[39;00m j \u001b[38;5;129;01min\u001b[39;00m bosses] \u001b[38;5;28;01mfor\u001b[39;00m i \u001b[38;5;129;01min\u001b[39;00m players]\n",
      "\u001b[36mFile \u001b[39m\u001b[32mc:\\Users\\Usuario\\Desktop\\Git\\BlackPapayaItems\\venv\\Lib\\site-packages\\pyomo\\opt\\base\\solvers.py:534\u001b[39m, in \u001b[36mOptSolver.solve\u001b[39m\u001b[34m(self, *args, **kwds)\u001b[39m\n\u001b[32m    531\u001b[39m \u001b[38;5;28;01mdef\u001b[39;00m\u001b[38;5;250m \u001b[39m\u001b[34msolve\u001b[39m(\u001b[38;5;28mself\u001b[39m, *args, **kwds):\n\u001b[32m    532\u001b[39m \u001b[38;5;250m    \u001b[39m\u001b[33;03m\"\"\"Solve the problem\"\"\"\u001b[39;00m\n\u001b[32m--> \u001b[39m\u001b[32m534\u001b[39m     \u001b[38;5;28;43mself\u001b[39;49m\u001b[43m.\u001b[49m\u001b[43mavailable\u001b[49m\u001b[43m(\u001b[49m\u001b[43mexception_flag\u001b[49m\u001b[43m=\u001b[49m\u001b[38;5;28;43;01mTrue\u001b[39;49;00m\u001b[43m)\u001b[49m\n\u001b[32m    535\u001b[39m     \u001b[38;5;66;03m#\u001b[39;00m\n\u001b[32m    536\u001b[39m     \u001b[38;5;66;03m# If the inputs are models, then validate that they have been\u001b[39;00m\n\u001b[32m    537\u001b[39m     \u001b[38;5;66;03m# constructed! Collect suffix names to try and import from solution.\u001b[39;00m\n\u001b[32m    538\u001b[39m     \u001b[38;5;66;03m#\u001b[39;00m\n\u001b[32m    539\u001b[39m     \u001b[38;5;28;01mfrom\u001b[39;00m\u001b[38;5;250m \u001b[39m\u001b[34;01mpyomo\u001b[39;00m\u001b[34;01m.\u001b[39;00m\u001b[34;01mcore\u001b[39;00m\u001b[34;01m.\u001b[39;00m\u001b[34;01mbase\u001b[39;00m\u001b[34;01m.\u001b[39;00m\u001b[34;01mblock\u001b[39;00m\u001b[38;5;250m \u001b[39m\u001b[38;5;28;01mimport\u001b[39;00m BlockData\n",
      "\u001b[36mFile \u001b[39m\u001b[32mc:\\Users\\Usuario\\Desktop\\Git\\BlackPapayaItems\\venv\\Lib\\site-packages\\pyomo\\opt\\solver\\shellcmd.py:140\u001b[39m, in \u001b[36mSystemCallSolver.available\u001b[39m\u001b[34m(self, exception_flag)\u001b[39m\n\u001b[32m    138\u001b[39m     \u001b[38;5;28;01mif\u001b[39;00m exception_flag:\n\u001b[32m    139\u001b[39m         msg = \u001b[33m\"\u001b[39m\u001b[33mNo executable found for solver \u001b[39m\u001b[33m'\u001b[39m\u001b[38;5;132;01m%s\u001b[39;00m\u001b[33m'\u001b[39m\u001b[33m\"\u001b[39m\n\u001b[32m--> \u001b[39m\u001b[32m140\u001b[39m         \u001b[38;5;28;01mraise\u001b[39;00m ApplicationError(msg % \u001b[38;5;28mself\u001b[39m.name)\n\u001b[32m    141\u001b[39m     \u001b[38;5;28;01mreturn\u001b[39;00m \u001b[38;5;28;01mFalse\u001b[39;00m\n\u001b[32m    142\u001b[39m \u001b[38;5;28;01mreturn\u001b[39;00m \u001b[38;5;28;01mTrue\u001b[39;00m\n",
      "\u001b[31mApplicationError\u001b[39m: No executable found for solver 'cbc'"
     ]
    }
   ],
   "source": [
    "from pyomo.environ import *\n",
    "\n",
    "# ------------------------\n",
    "# Parámetros de entrada\n",
    "# ------------------------\n",
    "\n",
    "N_players = 25   # número de jugadores\n",
    "N_bosses = 8     # número de bosses\n",
    "\n",
    "players = [f'P{i+1}' for i in range(N_players)]\n",
    "bosses = [f'B{j+1}' for j in range(N_bosses)]\n",
    "\n",
    "# ------------------------\n",
    "# Modelo\n",
    "# ------------------------\n",
    "\n",
    "model = ConcreteModel()\n",
    "\n",
    "# Variables binarias C[i,j]\n",
    "model.C = Var(players, bosses, domain=Binary)\n",
    "\n",
    "# ------------------------\n",
    "# Función objetivo\n",
    "# ------------------------\n",
    "\n",
    "def objective_rule(m):\n",
    "    return sum(m.C[i, j] for i in players for j in bosses)\n",
    "\n",
    "model.obj = Objective(rule=objective_rule, sense=maximize)\n",
    "\n",
    "# ------------------------\n",
    "# Restricción de máximo 20 jugadores por boss\n",
    "# ------------------------\n",
    "\n",
    "def max_20_per_boss(m, j):\n",
    "    return sum(m.C[i, j] for i in players) <= 20\n",
    "\n",
    "model.boss_capacity = Constraint(bosses, rule=max_20_per_boss)\n",
    "\n",
    "# ------------------------\n",
    "# Solver\n",
    "# ------------------------\n",
    "\n",
    "solver = SolverFactory('cbc')  # Usa 'cbc' o el que tengas disponible\n",
    "solver.solve(model, tee=True)\n",
    "\n",
    "# ------------------------\n",
    "# Resultado\n",
    "# ------------------------\n",
    "\n",
    "# Imprime la matriz C\n",
    "C_matrix = [[int(value(model.C[i, j])) for j in bosses] for i in players]\n",
    "\n",
    "print(\"Matriz C[i][j] (1 = participa, 0 = no participa):\")\n",
    "for row in C_matrix:\n",
    "    print(row)\n",
    "\n",
    "# Opcional: muestra de forma legible\n",
    "for i_idx, i in enumerate(players):\n",
    "    assigned = [bosses[j_idx] for j_idx in range(N_bosses) if C_matrix[i_idx][j_idx] == 1]\n",
    "    print(f\"{i} participa en bosses: {assigned}\")"
   ]
  }
 ],
 "metadata": {
  "kernelspec": {
   "display_name": "venv",
   "language": "python",
   "name": "python3"
  },
  "language_info": {
   "codemirror_mode": {
    "name": "ipython",
    "version": 3
   },
   "file_extension": ".py",
   "mimetype": "text/x-python",
   "name": "python",
   "nbconvert_exporter": "python",
   "pygments_lexer": "ipython3",
   "version": "3.11.9"
  }
 },
 "nbformat": 4,
 "nbformat_minor": 2
}
